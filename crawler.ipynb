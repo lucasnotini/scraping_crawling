{
 "cells": [
  {
   "cell_type": "markdown",
   "id": "08d3942b-99df-4e02-8f01-dea8ef3825df",
   "metadata": {},
   "source": [
    "#### IMPORTING LIBS"
   ]
  },
  {
   "cell_type": "code",
   "execution_count": 48,
   "id": "d0f74922-9fd7-42d2-9d4a-c13e8eab1182",
   "metadata": {},
   "outputs": [],
   "source": [
    "import requests\n",
    "from bs4 import BeautifulSoup\n",
    "import os\n",
    "import json\n",
    "import re"
   ]
  },
  {
   "cell_type": "markdown",
   "id": "29a46147-c53d-493d-ad61-369d4c104dd3",
   "metadata": {},
   "source": [
    "#### DEFINING INPUTS"
   ]
  },
  {
   "cell_type": "code",
   "execution_count": 49,
   "id": "5508135e-4cb7-43a7-90ad-06b6b62cacef",
   "metadata": {},
   "outputs": [],
   "source": [
    "url = \"https://www.ebay.com/sch/i.html?_from=R40&_trksid=p4432023.m570.l1313&_nkw=baseball&_sacat=0\"\n",
    "#using my user agent to spoof a browser visit\n",
    "headers = {\"User-Agent\": \"Mozilla/5.0 (Windows NT 10.0; Win64; x64) AppleWebKit/537.36 (KHTML, like Gecko) Chrome/123.0.0.0 Safari/537.36\"}"
   ]
  },
  {
   "cell_type": "markdown",
   "id": "02dc2fda-6e82-41bf-8606-db4fe8318aad",
   "metadata": {},
   "source": [
    "#### FETCHING THE SEARCH PAGE"
   ]
  },
  {
   "cell_type": "code",
   "execution_count": 50,
   "id": "5fefe14a-03c6-4321-a47f-1bdc4880f7c1",
   "metadata": {},
   "outputs": [],
   "source": [
    "#make request to the url and fetch html content to response object\n",
    "response = requests.get(url, headers=headers)\n",
    "#use beautifulsoup to parse the text from the response object\n",
    "soup = BeautifulSoup(response.text, 'lxml')"
   ]
  },
  {
   "cell_type": "markdown",
   "id": "2814d785-fbef-4da2-9d62-19b642cbf4b8",
   "metadata": {},
   "source": [
    "#### FINDING EACH LISTING/PRODUCT"
   ]
  },
  {
   "cell_type": "code",
   "execution_count": 51,
   "id": "cd97b92e-a52f-482b-beaa-1da6d81dbfa7",
   "metadata": {},
   "outputs": [],
   "source": [
    "#use find_all to find each correspondence\n",
    "listing_items = soup.find_all(\"div\", class_= \"s-item__info clearfix\")"
   ]
  },
  {
   "cell_type": "code",
   "execution_count": 52,
   "id": "ae3437ba-30b1-4b3f-985c-f1ea90b5094f",
   "metadata": {},
   "outputs": [],
   "source": [
    "#create list to store dictionaries with the data of each product\n",
    "item_list = []\n"
   ]
  },
  {
   "cell_type": "markdown",
   "id": "20de7cc5-509b-4100-8c28-f556da7eb949",
   "metadata": {},
   "source": [
    "#### LOOPING TO GET INFO FROM EACH LISTING"
   ]
  },
  {
   "cell_type": "code",
   "execution_count": 53,
   "id": "3f1188f1-40db-49a5-9169-72fc29a9e1b5",
   "metadata": {},
   "outputs": [],
   "source": [
    "for item in listing_items:\n",
    "    #get the title\n",
    "    title = item.find(\"div\", class_=\"s-item__title\").text.strip()\n",
    "    #get the url links filtering the attribute href\n",
    "    product_url = item.find(\"a\", class_=\"s-item__link\")[\"href\"]\n",
    "    #get the prices\n",
    "    price = item.find(\"span\", class_=\"s-item__price\").text.strip()\n",
    "    #append a dictionary with each product to our item_list\n",
    "    item_list.append({\n",
    "                    'title': title, \n",
    "                    'product_url': product_url,\n",
    "                    'price': price\n",
    "                    })"
   ]
  },
  {
   "cell_type": "markdown",
   "id": "f4106b04-43c7-4c51-8bd1-3b34c8e1f360",
   "metadata": {},
   "source": [
    "#### CREATING A FOLDER"
   ]
  },
  {
   "cell_type": "code",
   "execution_count": 54,
   "id": "0496a5b6-bdf7-4236-a9a9-78896ef5a0d3",
   "metadata": {},
   "outputs": [],
   "source": [
    "#create folder with OS, if existent, pass\n",
    "try:\n",
    "    os.makedirs(\"data\")\n",
    "except:\n",
    "    pass"
   ]
  },
  {
   "cell_type": "markdown",
   "id": "5562b1e0-f591-41cd-8470-51b6679f321f",
   "metadata": {},
   "source": [
    "#### SAVING EACH PRODUCT DICTIONARY TO A JSON FILE INSIDE OUR FOLDER"
   ]
  },
  {
   "cell_type": "code",
   "execution_count": 56,
   "id": "3137c6c8-5e1e-4b3d-879c-050743df04ea",
   "metadata": {},
   "outputs": [],
   "source": [
    "for product in item_list:\n",
    "\n",
    "    #usIing a regex to extract the item id from the URL\n",
    "    item_regex = re.search(r\"(?:[ebay]*(?:[\\/]|[itm=])|^)([0-9]{9,12})\", product['product_url'])\n",
    "    if item_regex:\n",
    "        item_id = item_regex.group(1)    \n",
    "        \n",
    "    #create json object\n",
    "    product_json = json.dumps(product, indent=4)  \n",
    "    \n",
    "    #Writing json files with the item_id as its filename\n",
    "    with open(f\"data\\{item_id}.json\", \"w\") as file:\n",
    "        file.write(product_json) \n",
    "    "
   ]
  }
 ],
 "metadata": {
  "kernelspec": {
   "display_name": "Python 3 (ipykernel)",
   "language": "python",
   "name": "python3"
  },
  "language_info": {
   "codemirror_mode": {
    "name": "ipython",
    "version": 3
   },
   "file_extension": ".py",
   "mimetype": "text/x-python",
   "name": "python",
   "nbconvert_exporter": "python",
   "pygments_lexer": "ipython3",
   "version": "3.11.3"
  }
 },
 "nbformat": 4,
 "nbformat_minor": 5
}
