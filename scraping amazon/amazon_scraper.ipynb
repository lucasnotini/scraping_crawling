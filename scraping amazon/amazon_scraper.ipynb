{
 "cells": [
  {
   "cell_type": "code",
   "execution_count": 24,
   "id": "5fc4366c-566b-40fd-b9e6-d488fd30a4de",
   "metadata": {},
   "outputs": [],
   "source": [
    "from selenium import webdriver\n",
    "from selenium.webdriver.chrome.service import Service\n",
    "from selenium.webdriver.support.ui import WebDriverWait \n",
    "from selenium.webdriver.support import expected_conditions as EC\n",
    "\n",
    "# import from webdriver_manager (using underscore)\n",
    "from webdriver_manager.chrome import ChromeDriverManager "
   ]
  },
  {
   "cell_type": "markdown",
   "id": "840e00d6-4aed-4378-89c8-b8c4d0da1a66",
   "metadata": {},
   "source": [
    "#### READING THE AMAZON PAGE AND STORING ITS DATA IN AN OBJECT"
   ]
  },
  {
   "cell_type": "code",
   "execution_count": 8,
   "id": "b0b66f20-b2ff-44d1-8467-e057c9def0b1",
   "metadata": {},
   "outputs": [],
   "source": [
    "#opens chrome from our webdriver\n",
    "driver = webdriver.Chrome(service = Service(ChromeDriverManager().install()))"
   ]
  },
  {
   "cell_type": "code",
   "execution_count": 9,
   "id": "d1e08871-835e-48b6-948d-05a2489a0d38",
   "metadata": {},
   "outputs": [],
   "source": [
    "# assign your website to scrape\n",
    "url = 'https://www.amazon.com.br'"
   ]
  },
  {
   "cell_type": "code",
   "execution_count": 10,
   "id": "ec3b5ea3-8beb-4961-a622-0e004699660c",
   "metadata": {},
   "outputs": [],
   "source": [
    "#visiting our url\n",
    "driver.get(url)"
   ]
  },
  {
   "cell_type": "code",
   "execution_count": 11,
   "id": "50c708ff-8cbd-4b86-993d-f81b11222b35",
   "metadata": {},
   "outputs": [],
   "source": [
    "#create object for search box and submit button\n",
    "search_box = driver.find_element('xpath', '//*[@id=\"twotabsearchtextbox\"]')\n",
    "submit_btn = driver.find_element('xpath', '//*[@id=\"nav-search-submit-button\"]')"
   ]
  },
  {
   "cell_type": "code",
   "execution_count": 12,
   "id": "036e1490-84aa-493d-a834-d31dd03d7783",
   "metadata": {},
   "outputs": [],
   "source": [
    "#making our search\n",
    "search_box.send_keys('iphone 15')\n",
    "#submiting using our button element\n",
    "submit_btn.click()"
   ]
  },
  {
   "cell_type": "code",
   "execution_count": 13,
   "id": "edc5d5f5-9744-4564-9e8d-66fa2d547550",
   "metadata": {},
   "outputs": [],
   "source": [
    "#waiting sometime for the page to load\n",
    "driver.implicitly_wait(5)"
   ]
  },
  {
   "cell_type": "code",
   "execution_count": 14,
   "id": "c7d08449-a6bf-4e4c-8e62-73761755413b",
   "metadata": {},
   "outputs": [],
   "source": [
    "#create a list to store dictionaries with our data\n",
    "products = []"
   ]
  },
  {
   "cell_type": "code",
   "execution_count": 25,
   "id": "53744ab2-e8eb-44a2-9af8-74c62a4cb7d3",
   "metadata": {},
   "outputs": [],
   "source": [
    "#finding each product waiting for a max of 10 seconds and storing them\n",
    "items = WebDriverWait(driver,10).until(EC.presence_of_all_elements_located((By.XPATH, '//div[contains(@class, \"s-result-item s-asin\")]')))"
   ]
  },
  {
   "cell_type": "code",
   "execution_count": 31,
   "id": "4dff0cd5-f990-4805-a654-75991021c214",
   "metadata": {},
   "outputs": [
    {
     "ename": "TimeoutException",
     "evalue": "Message: \n",
     "output_type": "error",
     "traceback": [
      "\u001b[1;31m---------------------------------------------------------------------------\u001b[0m",
      "\u001b[1;31mTimeoutException\u001b[0m                          Traceback (most recent call last)",
      "Cell \u001b[1;32mIn[31], line 3\u001b[0m\n\u001b[0;32m      1\u001b[0m \u001b[38;5;28;01mfor\u001b[39;00m item \u001b[38;5;129;01min\u001b[39;00m items:\n\u001b[0;32m      2\u001b[0m     \u001b[38;5;66;03m#title = driver.find_element('xpath', './/span[@class=\"a-size-medium a-color-base a-text-normal\"]')\u001b[39;00m\n\u001b[1;32m----> 3\u001b[0m     title \u001b[38;5;241m=\u001b[39m \u001b[43mWebDriverWait\u001b[49m\u001b[43m(\u001b[49m\u001b[43mdriver\u001b[49m\u001b[43m,\u001b[49m\u001b[38;5;241;43m20\u001b[39;49m\u001b[43m)\u001b[49m\u001b[38;5;241;43m.\u001b[39;49m\u001b[43muntil\u001b[49m\u001b[43m(\u001b[49m\u001b[43mEC\u001b[49m\u001b[38;5;241;43m.\u001b[39;49m\u001b[43mpresence_of_all_elements_located\u001b[49m\u001b[43m(\u001b[49m\u001b[43m(\u001b[49m\u001b[43mBy\u001b[49m\u001b[38;5;241;43m.\u001b[39;49m\u001b[43mXPATH\u001b[49m\u001b[43m,\u001b[49m\u001b[43m \u001b[49m\u001b[38;5;124;43m'\u001b[39;49m\u001b[38;5;124;43m.//span[@class=\u001b[39;49m\u001b[38;5;124;43m\"\u001b[39;49m\u001b[38;5;124;43ma-size-medium a-color-base a-text-normal\u001b[39;49m\u001b[38;5;124;43m\"\u001b[39;49m\u001b[38;5;124;43m]\u001b[39;49m\u001b[38;5;124;43m'\u001b[39;49m\u001b[43m)\u001b[49m\u001b[43m)\u001b[49m\u001b[43m)\u001b[49m\n",
      "File \u001b[1;32m~\\AppData\\Local\\Programs\\Python\\Python311\\Lib\\site-packages\\selenium\\webdriver\\support\\wait.py:105\u001b[0m, in \u001b[0;36mWebDriverWait.until\u001b[1;34m(self, method, message)\u001b[0m\n\u001b[0;32m    103\u001b[0m     \u001b[38;5;28;01mif\u001b[39;00m time\u001b[38;5;241m.\u001b[39mmonotonic() \u001b[38;5;241m>\u001b[39m end_time:\n\u001b[0;32m    104\u001b[0m         \u001b[38;5;28;01mbreak\u001b[39;00m\n\u001b[1;32m--> 105\u001b[0m \u001b[38;5;28;01mraise\u001b[39;00m TimeoutException(message, screen, stacktrace)\n",
      "\u001b[1;31mTimeoutException\u001b[0m: Message: \n"
     ]
    }
   ],
   "source": [
    "for item in items:\n",
    "    #title = driver.find_element('xpath', './/span[@class=\"a-size-medium a-color-base a-text-normal\"]')\n",
    "    title = WebDriverWait(driver,20).until(EC.presence_of_all_elements_located((By.XPATH, './/span[@class=\"a-size-medium a-color-base a-text-normal\"]')))\n",
    "    "
   ]
  },
  {
   "cell_type": "code",
   "execution_count": null,
   "id": "b85ae051-82d8-46f9-944a-a7494a42c905",
   "metadata": {},
   "outputs": [],
   "source": []
  },
  {
   "cell_type": "code",
   "execution_count": null,
   "id": "31bd6893-44c0-4d99-9977-852a94c3fd1c",
   "metadata": {},
   "outputs": [],
   "source": []
  },
  {
   "cell_type": "code",
   "execution_count": null,
   "id": "e5434299-52bf-4b7d-b22d-456a77db3127",
   "metadata": {},
   "outputs": [],
   "source": []
  },
  {
   "cell_type": "code",
   "execution_count": null,
   "id": "8bff5e3d-d28c-4719-aeac-544c64803202",
   "metadata": {},
   "outputs": [],
   "source": [
    "# quit our browser\n",
    "driver.quit()"
   ]
  },
  {
   "cell_type": "code",
   "execution_count": null,
   "id": "46f57d67-7ed6-4460-af14-7f5f8795941a",
   "metadata": {},
   "outputs": [],
   "source": []
  }
 ],
 "metadata": {
  "kernelspec": {
   "display_name": "Python 3 (ipykernel)",
   "language": "python",
   "name": "python3"
  },
  "language_info": {
   "codemirror_mode": {
    "name": "ipython",
    "version": 3
   },
   "file_extension": ".py",
   "mimetype": "text/x-python",
   "name": "python",
   "nbconvert_exporter": "python",
   "pygments_lexer": "ipython3",
   "version": "3.11.3"
  }
 },
 "nbformat": 4,
 "nbformat_minor": 5
}
