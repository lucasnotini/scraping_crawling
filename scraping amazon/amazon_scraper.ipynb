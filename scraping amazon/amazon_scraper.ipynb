{
 "cells": [
  {
   "cell_type": "markdown",
   "id": "39082957-5eeb-42e2-8490-f8baf525bee3",
   "metadata": {},
   "source": [
    "### SCRAPING DATA FROM PRODUCTS AT AMAZON.COM"
   ]
  },
  {
   "cell_type": "code",
   "execution_count": 118,
   "id": "ca82223d-6780-4089-809d-619c249064b3",
   "metadata": {},
   "outputs": [],
   "source": [
    "from selenium import webdriver #import the webdriver module from selenium\n",
    "from selenium.webdriver.common.by import By #import the By function from webdriver\n",
    "import pandas as pd"
   ]
  },
  {
   "cell_type": "code",
   "execution_count": 106,
   "id": "08bc731b-fab4-43bf-a8ef-ff7fe017db5f",
   "metadata": {},
   "outputs": [],
   "source": [
    "url = 'https://www.amazon.com/'"
   ]
  },
  {
   "cell_type": "markdown",
   "id": "a174955c-a096-45b2-b62a-472cc6ee03b3",
   "metadata": {},
   "source": [
    "#### SETTING UP SELENIUM"
   ]
  },
  {
   "cell_type": "code",
   "execution_count": 107,
   "id": "4b1b4588-839e-49cb-844b-ae4ed7f72a99",
   "metadata": {},
   "outputs": [],
   "source": [
    "#create our driver and set it to Chrome\n",
    "driver = webdriver.Chrome()"
   ]
  },
  {
   "cell_type": "markdown",
   "id": "75dd7d66-ae67-4d9a-a93b-81ec915f11b2",
   "metadata": {},
   "source": [
    "#### SCRAPING OUR URL"
   ]
  },
  {
   "cell_type": "code",
   "execution_count": 108,
   "id": "67a80998-035f-4096-913f-0d7c222aa0fa",
   "metadata": {},
   "outputs": [],
   "source": [
    "#send a get to our url\n",
    "driver.get(url)"
   ]
  },
  {
   "cell_type": "code",
   "execution_count": 109,
   "id": "c215462c-7a22-4667-a20e-717a47594519",
   "metadata": {},
   "outputs": [],
   "source": [
    "#create object to our searchbox\n",
    "search_box = driver.find_element(By.XPATH, '//*[@id=\"twotabsearchtextbox\"]')"
   ]
  },
  {
   "cell_type": "code",
   "execution_count": 110,
   "id": "b7ca8220-5226-437d-bb41-939e45f50544",
   "metadata": {},
   "outputs": [],
   "source": [
    "#create submit btn and sort by btn\n",
    "submit_btn = driver.find_element(By.XPATH, '//*[@id=\"nav-search-submit-button\"]')"
   ]
  },
  {
   "cell_type": "code",
   "execution_count": 111,
   "id": "9d27b86a-2143-458b-889f-aa50fdb7d1df",
   "metadata": {},
   "outputs": [],
   "source": [
    "#send our text to the search box\n",
    "search_box.send_keys('smartphone iphone 15 pro max')"
   ]
  },
  {
   "cell_type": "code",
   "execution_count": 112,
   "id": "157145a6-29d4-49d0-ad55-46678522c231",
   "metadata": {},
   "outputs": [],
   "source": [
    "#click our submit btn\n",
    "submit_btn.click()"
   ]
  },
  {
   "cell_type": "code",
   "execution_count": 113,
   "id": "b9656c3c-cefd-4917-a634-9d9aa167c247",
   "metadata": {},
   "outputs": [],
   "source": [
    "#finding all the desired products\n",
    "product_list = driver.find_elements(By.XPATH, \"//div[contains(@class, 's-result-item s-asin')]\") "
   ]
  },
  {
   "cell_type": "code",
   "execution_count": 121,
   "id": "790e7451-b5f2-404e-9c97-a4d9db8ceb70",
   "metadata": {},
   "outputs": [],
   "source": [
    "#creating a list to store dictionaries with our data\n",
    "data_list = []\n",
    "#looping through our products_list\n",
    "for product in product_list:\n",
    "    title = product.find_element(By.XPATH, './/span[@class=\"a-size-medium a-color-base a-text-normal\"]').text\n",
    "    try:\n",
    "        price = float(product.find_element(By.XPATH, './/span[@class=\"a-price-whole\"]').text)\n",
    "    except:\n",
    "        price = 'Multiple Options'\n",
    "    #append dictionaries with each product to our list\n",
    "    data_list.append({'title': title,\n",
    "                      'price': price})"
   ]
  },
  {
   "cell_type": "code",
   "execution_count": 134,
   "id": "81b9330f-73e1-40d9-baf7-78c937889fc9",
   "metadata": {},
   "outputs": [],
   "source": [
    "#### CREATING A PANDAS DATAFRAME TO WORK WITH THE DATA"
   ]
  },
  {
   "cell_type": "code",
   "execution_count": 135,
   "id": "82c27baf-a2d4-4359-9cfc-b07ff3b2a8ab",
   "metadata": {},
   "outputs": [],
   "source": [
    "#creating a dataframe with our data\n",
    "df = pd.DataFrame(data_list)"
   ]
  },
  {
   "cell_type": "code",
   "execution_count": 136,
   "id": "f331e289-7fd8-4726-bfcd-3f5ed1678727",
   "metadata": {},
   "outputs": [
    {
     "name": "stdout",
     "output_type": "stream",
     "text": [
      "Number of Products: 22\n",
      "Average Price: 98.95\n"
     ]
    }
   ],
   "source": [
    "#printing some metrics\n",
    "print(f\"Number of Products: {df.price.count()}\")\n",
    "print(f\"Average Price: {round(df.price.mean(),2)}\")"
   ]
  },
  {
   "cell_type": "code",
   "execution_count": null,
   "id": "d39ff265-bf42-41d8-a73e-1680fea8a3c9",
   "metadata": {},
   "outputs": [],
   "source": [
    "#### QUITING "
   ]
  },
  {
   "cell_type": "code",
   "execution_count": null,
   "id": "8fc8a36c-51d0-42ee-afdf-4f96fcfecfdd",
   "metadata": {},
   "outputs": [],
   "source": [
    "#quit our browser\n",
    "driver.quit()"
   ]
  }
 ],
 "metadata": {
  "kernelspec": {
   "display_name": "Python 3 (ipykernel)",
   "language": "python",
   "name": "python3"
  },
  "language_info": {
   "codemirror_mode": {
    "name": "ipython",
    "version": 3
   },
   "file_extension": ".py",
   "mimetype": "text/x-python",
   "name": "python",
   "nbconvert_exporter": "python",
   "pygments_lexer": "ipython3",
   "version": "3.11.3"
  }
 },
 "nbformat": 4,
 "nbformat_minor": 5
}
