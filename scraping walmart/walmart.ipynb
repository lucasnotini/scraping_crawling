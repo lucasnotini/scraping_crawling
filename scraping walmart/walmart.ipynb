{
 "cells": [
  {
   "cell_type": "code",
   "execution_count": 1,
   "id": "c9034d8c-7a48-4fe5-ab90-eda9a3b8e585",
   "metadata": {},
   "outputs": [],
   "source": [
    "import requests\n",
    "from bs4 import BeautifulSoup\n",
    "import json\n",
    "import pandas as pd"
   ]
  },
  {
   "cell_type": "markdown",
   "id": "a2b5a245-14c7-4f46-b75c-da18d009bebe",
   "metadata": {
    "tags": []
   },
   "source": [
    "##### GETTING DATA FROM SINGLE WALMART PRODUCTS"
   ]
  },
  {
   "cell_type": "code",
   "execution_count": 2,
   "id": "ff28403d-c97f-4e35-9d8e-da25bbb187ce",
   "metadata": {},
   "outputs": [],
   "source": [
    "url = \"https://www.walmart.com/ip/AT-T-iPhone-14-128GB-Midnight/1756765288\"\n",
    "headers = {\"User-Agent\": \"Mozilla/5.0 (Windows NT 10.0; Win64; x64) AppleWebKit/537.36 (KHTML, like Gecko) Chrome/123.0.0.0 Safari/537.36\"}"
   ]
  },
  {
   "cell_type": "code",
   "execution_count": 3,
   "id": "944543b7-bf3d-4829-a498-7ad73375b8f4",
   "metadata": {},
   "outputs": [],
   "source": [
    "#make a get request and store response in an object passing the url and our headers\n",
    "response = requests.get(url, headers = headers)"
   ]
  },
  {
   "cell_type": "code",
   "execution_count": 4,
   "id": "722d3c95-fec0-491d-b71e-f185fb2b5f44",
   "metadata": {},
   "outputs": [],
   "source": [
    "#parse our response.text with beautifulsoup\n",
    "soup = BeautifulSoup(response.content, 'html.parser')\n",
    "#soup"
   ]
  },
  {
   "cell_type": "code",
   "execution_count": 5,
   "id": "bc4ce4f5-c629-4804-9207-ae0ed7489fcc",
   "metadata": {},
   "outputs": [],
   "source": [
    "#getting the price by finding the h1 element on the product page\n",
    "product_title = soup.find('h1').text"
   ]
  },
  {
   "cell_type": "code",
   "execution_count": 6,
   "id": "f25fd57a-e59b-4021-9003-4b8abace0ed9",
   "metadata": {},
   "outputs": [],
   "source": [
    "#getting the price\n",
    "product_price = soup.find('span', {'itemprop': 'price'}).text"
   ]
  },
  {
   "cell_type": "code",
   "execution_count": 7,
   "id": "c46e2287-5091-4ccc-a584-904aee7d1227",
   "metadata": {},
   "outputs": [],
   "source": [
    "#create a list with dictionaries containing data from each product\n",
    "product_data = [{\n",
    "                'title': product_title,\n",
    "                'price': product_price,\n",
    "                }]"
   ]
  },
  {
   "cell_type": "code",
   "execution_count": 8,
   "id": "426fe8dd-e689-4401-8a03-92ac2bcaad0d",
   "metadata": {},
   "outputs": [
    {
     "data": {
      "text/html": [
       "<div>\n",
       "<style scoped>\n",
       "    .dataframe tbody tr th:only-of-type {\n",
       "        vertical-align: middle;\n",
       "    }\n",
       "\n",
       "    .dataframe tbody tr th {\n",
       "        vertical-align: top;\n",
       "    }\n",
       "\n",
       "    .dataframe thead th {\n",
       "        text-align: right;\n",
       "    }\n",
       "</style>\n",
       "<table border=\"1\" class=\"dataframe\">\n",
       "  <thead>\n",
       "    <tr style=\"text-align: right;\">\n",
       "      <th></th>\n",
       "      <th>title</th>\n",
       "      <th>price</th>\n",
       "    </tr>\n",
       "  </thead>\n",
       "  <tbody>\n",
       "    <tr>\n",
       "      <th>0</th>\n",
       "      <td>AT&amp;T Apple iPhone 14 128GB Midnight</td>\n",
       "      <td>$18.87/month</td>\n",
       "    </tr>\n",
       "  </tbody>\n",
       "</table>\n",
       "</div>"
      ],
      "text/plain": [
       "                                 title         price\n",
       "0  AT&T Apple iPhone 14 128GB Midnight  $18.87/month"
      ]
     },
     "execution_count": 8,
     "metadata": {},
     "output_type": "execute_result"
    }
   ],
   "source": [
    "#create a pandas df from our list of dictionaries\n",
    "df = pd.DataFrame(product_data)\n",
    "df"
   ]
  },
  {
   "cell_type": "code",
   "execution_count": 9,
   "id": "04d28ef2-33d3-40ce-ba57-61bbd6e19e04",
   "metadata": {},
   "outputs": [],
   "source": [
    "#export our df to csv\n",
    "#df.to_csv('product_data.csv')"
   ]
  },
  {
   "cell_type": "markdown",
   "id": "0812cc20-d6a5-4203-8580-973cb7d00338",
   "metadata": {
    "tags": []
   },
   "source": [
    "##### CREATING A FUNCTION TO LOOP THROUGH MULTIPLE PRODUCT URLS"
   ]
  },
  {
   "cell_type": "code",
   "execution_count": 19,
   "id": "62a654b8-3bbc-40b7-b2fe-605e1a78c468",
   "metadata": {},
   "outputs": [],
   "source": [
    "def get_walmart_data(urls):\n",
    "    \n",
    "    product_data = []\n",
    "    \n",
    "    for url in urls:\n",
    "        response = requests.get(url, headers = headers)\n",
    "        soup = BeautifulSoup(response.content, 'html.parser')\n",
    "        product_title = soup.find('h1').text\n",
    "        product_price = soup.find('span', {'itemprop': 'price'}).text\n",
    "        dict_product = {\n",
    "                        'title': product_title,\n",
    "                        'price': product_price,\n",
    "                       }\n",
    "        product_data.append(dict_product)     \n",
    "    #returning a pandas dataframe with data for all products    \n",
    "    df = pd.DataFrame(product_data)\n",
    "        \n",
    "    return df"
   ]
  },
  {
   "cell_type": "code",
   "execution_count": 20,
   "id": "1884e255-8bcf-4c58-8c60-3b19efcd95f7",
   "metadata": {},
   "outputs": [],
   "source": [
    "product_urls = [\n",
    "    \"https://www.walmart.com/ip/AT-T-iPhone-14-128GB-Midnight/1756765288\",\n",
    "    \"https://www.walmart.com/ip/AT-T-Apple-iPhone-15-Pro-Max-256GB-Black-Titanium/5054919381?from=/search\",\n",
    "    \"https://www.walmart.com/ip/AT-T-Apple-iPhone-15-128GB-Black/5034041386?from=/search\",\n",
    "    \"https://www.walmart.com/ip/Straight-Talk-Apple-iPhone-15-Pro-128GB-Blue-Prepaid-Smartphone/5060213862\"\n",
    "]\n",
    "\n",
    "headers = {\"User-Agent\": \"Mozilla/5.0 (Windows NT 10.0; Win64; x64) AppleWebKit/537.36 (KHTML, like Gecko) Chrome/123.0.0.0 Safari/537.36\"}"
   ]
  },
  {
   "cell_type": "code",
   "execution_count": 21,
   "id": "41c4b26d-7df7-4c19-bebf-81f7f6f0b3e4",
   "metadata": {},
   "outputs": [
    {
     "data": {
      "text/html": [
       "<div>\n",
       "<style scoped>\n",
       "    .dataframe tbody tr th:only-of-type {\n",
       "        vertical-align: middle;\n",
       "    }\n",
       "\n",
       "    .dataframe tbody tr th {\n",
       "        vertical-align: top;\n",
       "    }\n",
       "\n",
       "    .dataframe thead th {\n",
       "        text-align: right;\n",
       "    }\n",
       "</style>\n",
       "<table border=\"1\" class=\"dataframe\">\n",
       "  <thead>\n",
       "    <tr style=\"text-align: right;\">\n",
       "      <th></th>\n",
       "      <th>title</th>\n",
       "      <th>price</th>\n",
       "    </tr>\n",
       "  </thead>\n",
       "  <tbody>\n",
       "    <tr>\n",
       "      <th>0</th>\n",
       "      <td>AT&amp;T Apple iPhone 14 128GB Midnight</td>\n",
       "      <td>$18.87/month</td>\n",
       "    </tr>\n",
       "    <tr>\n",
       "      <th>1</th>\n",
       "      <td>AT&amp;T Apple iPhone 15 Pro Max 256GB Black Titanium</td>\n",
       "      <td>$29.14/month</td>\n",
       "    </tr>\n",
       "    <tr>\n",
       "      <th>2</th>\n",
       "      <td>AT&amp;T Apple iPhone 15 128GB Black</td>\n",
       "      <td>$21.64/month</td>\n",
       "    </tr>\n",
       "    <tr>\n",
       "      <th>3</th>\n",
       "      <td>Straight Talk Apple iPhone 15 Pro, 128GB, Blue...</td>\n",
       "      <td>$999.00</td>\n",
       "    </tr>\n",
       "  </tbody>\n",
       "</table>\n",
       "</div>"
      ],
      "text/plain": [
       "                                               title         price\n",
       "0                AT&T Apple iPhone 14 128GB Midnight  $18.87/month\n",
       "1  AT&T Apple iPhone 15 Pro Max 256GB Black Titanium  $29.14/month\n",
       "2                   AT&T Apple iPhone 15 128GB Black  $21.64/month\n",
       "3  Straight Talk Apple iPhone 15 Pro, 128GB, Blue...       $999.00"
      ]
     },
     "execution_count": 21,
     "metadata": {},
     "output_type": "execute_result"
    }
   ],
   "source": [
    "#calling our function\n",
    "get_walmart_data(product_urls)"
   ]
  },
  {
   "cell_type": "code",
   "execution_count": null,
   "id": "c242a938-a659-4d26-95a2-61ae19e4a387",
   "metadata": {},
   "outputs": [],
   "source": []
  }
 ],
 "metadata": {
  "kernelspec": {
   "display_name": "Python 3 (ipykernel)",
   "language": "python",
   "name": "python3"
  },
  "language_info": {
   "codemirror_mode": {
    "name": "ipython",
    "version": 3
   },
   "file_extension": ".py",
   "mimetype": "text/x-python",
   "name": "python",
   "nbconvert_exporter": "python",
   "pygments_lexer": "ipython3",
   "version": "3.11.3"
  }
 },
 "nbformat": 4,
 "nbformat_minor": 5
}
